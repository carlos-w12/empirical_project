{
 "cells": [
  {
   "cell_type": "code",
   "execution_count": null,
   "id": "20936218-0631-40f7-8d98-d4bf33675861",
   "metadata": {
    "scrolled": true
   },
   "outputs": [],
   "source": [
    "import pandas as pd\n",
    "import os\n",
    "\n",
    "# List of macroeconomic indicators to load\n",
    "indicators = ['debt', 'inflation', 'reserves', 'current_account', 'fdi', 'gdp_growth']\n",
    "dataframes = {}\n",
    "\n",
    "# Load datasets for each macroeconomic indicator\n",
    "for indicator in indicators:\n",
    "    path = os.path.join('../data', f\"{indicator}_data.csv\")\n",
    "    dataframes[indicator] = pd.read_csv(path)\n",
    "\n",
    "# Known countries to identify the end of aggregates and the start of valid country data\n",
    "known_countries = ['Afghanistan', 'Albania', 'Algeria', 'Andorra', 'Angola']\n",
    "\n",
    "def clean_data(dataframe):\n",
    "    # Loop through the 'country' column to find where aggregates end and individual country data starts\n",
    "    for index, value in enumerate(dataframe['country']):\n",
    "        if value in known_countries:\n",
    "            countries = dataframe.iloc[index:]\n",
    "            return countries.reset_index(drop = True)\n",
    "\n",
    "    raise ValueError('No known country found in dataset. Adjust known_country list')  "
   ]
  },
  {
   "cell_type": "code",
   "execution_count": null,
   "id": "a5395def-97ca-43de-9eb2-e5542fb97518",
   "metadata": {},
   "outputs": [],
   "source": [
    "country_data = {}\n",
    "\n",
    "# Clean each dataset by calling the 'clean_data' function\n",
    "for indicator in indicators:\n",
    "    cleaned = clean_data(dataframes[indicator]).rename(columns = {'value': indicator})\n",
    "    country_data[indicator] = cleaned"
   ]
  },
  {
   "cell_type": "code",
   "execution_count": null,
   "id": "8b40b224-0d88-4c86-a415-369a5f9d57fa",
   "metadata": {},
   "outputs": [],
   "source": [
    "# Merging the datasets on common keys\n",
    "merged_countries = country_data[indicators[0]]\n",
    "for indicator in indicators[1:]:\n",
    "    merged_countries = merged_countries.merge(country_data[indicator], on = ['country', 'iso', 'year'], how = 'inner')"
   ]
  },
  {
   "cell_type": "code",
   "execution_count": null,
   "id": "9861013c-6f9a-46b6-aeab-78a080a6c80d",
   "metadata": {},
   "outputs": [],
   "source": [
    "# Loading the regions dataframe into the notebook\n",
    "regions_df = pd.read_csv('../data/country_regions.csv')\n",
    "\n",
    "# List of countries whoes names differ between World Bank and United Nations geoscheme\n",
    "mismatched_country_names = {'Bahamas': 'Bahamas, The',\n",
    "    'Congo [Republic of the Congo]': 'Congo, Rep.',\n",
    "    'Eswatini [Swaziland]': 'Eswatini',\n",
    "    'France [French Republic]': 'France',\n",
    "    'Republic of Korea [South Korea]': 'Korea, Rep.',\n",
    "    'Kyrgyzstan': 'Kyrgyz Republic',\n",
    "    'Micronesia (Federated States of)': 'Micronesia, Fed. Sts.',\n",
    "    'Republic of Moldova': 'Moldova',\n",
    "    'Slovakia': 'Slovak Republic',\n",
    "    'Saint Kitts and Nevis': 'St. Kitts and Nevis',\n",
    "    'Saint Lucia': 'St. Lucia',\n",
    "    'Türkiye': 'Turkiye',\n",
    "    'United Kingdom of Great Britain and Northern Ireland': 'United Kingdom',\n",
    "    'United States of America': 'United States'}\n",
    "\n",
    "# Renaming the countries in regions_df to match those in merged_countries\n",
    "regions_df['country'] = regions_df['country'].replace(mismatched_country_names)\n",
    "\n",
    "# Merging regions_df into merged_countries\n",
    "merged_countries = merged_countries.merge(regions_df, on = 'country', how = 'inner')\n",
    "\n",
    "# Saving the fully merged and cleaned dataset\n",
    "merged_countries.to_csv('../data/cleaned_data.csv', index = False)"
   ]
  }
 ],
 "metadata": {
  "kernelspec": {
   "display_name": "Python 3 (ipykernel)",
   "language": "python",
   "name": "python3"
  },
  "language_info": {
   "codemirror_mode": {
    "name": "ipython",
    "version": 3
   },
   "file_extension": ".py",
   "mimetype": "text/x-python",
   "name": "python",
   "nbconvert_exporter": "python",
   "pygments_lexer": "ipython3",
   "version": "3.9.0"
  }
 },
 "nbformat": 4,
 "nbformat_minor": 5
}
