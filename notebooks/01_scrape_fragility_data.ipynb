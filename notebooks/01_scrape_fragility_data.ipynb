{
 "cells": [
  {
   "cell_type": "code",
   "execution_count": null,
   "id": "13252200-5dde-498d-ae97-db9c3531d3df",
   "metadata": {},
   "outputs": [],
   "source": [
    "# Importing Libraries\n",
    "import requests\n",
    "import pandas as pd\n",
    "import time\n",
    "import os\n",
    "\n",
    "# Defining indicators and their corresponding World Bank API codes\n",
    "indicators = {'debt': 'GC.DOD.TOTL.GD.ZS', \n",
    "              'inflation': 'FP.CPI.TOTL.ZG', \n",
    "              'reserves': 'FI.RES.TOTL.MO', \n",
    "              'current_account': 'BN.CAB.XOKA.GD.ZS', \n",
    "              'fdi': 'BX.KLT.DINV.WD.GD.ZS', \n",
    "              'gdp_growth': 'NY.GDP.MKTP.KD.ZG'}\n",
    "\n",
    "def scrape_indicator(indicator_code, start = 2010, end = 2022): # Defining our function to scrape data\n",
    "    link = f\"http://api.worldbank.org/v2/country/all/indicator/{indicator_code}\" # Defining link\n",
    "    parameters = {'format': 'json', 'date': f\"{start}:{end}\", 'per_page': 30000} # Defining parameters\n",
    "\n",
    "    # Making the API request\n",
    "    response = requests.get(link, params = parameters)\n",
    "    time.sleep(0.2)\n",
    "\n",
    "    # Checking for a successful status code\n",
    "    if response.status_code != 200:\n",
    "        print(f\"Error fetching {indicator_code}\")\n",
    "        return None\n",
    "\n",
    "    # Converting the response from the API into a python dictionary\n",
    "    json_data = response.json()\n",
    "\n",
    "    # Checking the data exists and has been correctly converted\n",
    "    if len(json_data) < 2:\n",
    "        print(f\"No data found for {indicator_code}\")\n",
    "        return None\n",
    "\n",
    "    # Extracting the data from the response and storing it in a list of dictionaries\n",
    "    data = []\n",
    "    for entry in json_data[1]:\n",
    "        if entry['value'] is not None:\n",
    "            data.append({\n",
    "                \"country\": entry['country']['value'],\n",
    "                \"iso\": entry['country']['id'],\n",
    "                \"year\": int(entry['date']),\n",
    "                \"value\": entry['value']\n",
    "            })\n",
    "            \n",
    "    return pd.DataFrame(data)"
   ]
  },
  {
   "cell_type": "code",
   "execution_count": null,
   "id": "654a171c-0971-446a-bb79-8f5a7717cadb",
   "metadata": {},
   "outputs": [],
   "source": [
    "# Calling the function for each indicator\n",
    "for name, code in indicators.items():\n",
    "    df = scrape_indicator(code, start = 2010, end = 2022)\n",
    "\n",
    "    directory = '../data'\n",
    "    \n",
    "    # Saving the data as a CSV file\n",
    "    if df is not None:\n",
    "        path = os.path.join(directory, f\"{name}_data.csv\")\n",
    "        df.to_csv(path, index = False)\n",
    "        print(f\"Saved {name} data to {path}\")\n",
    "    else:\n",
    "        print(f\"No data found for {name}\")"
   ]
  },
  {
   "cell_type": "code",
   "execution_count": null,
   "id": "db9929b4-58dd-40c3-b184-bf48ef66cd0e",
   "metadata": {},
   "outputs": [],
   "source": [
    "# Scraping UN geoscheme country-region classifications\n",
    "def scrape_region(link):\n",
    "    tables = pd.read_html(link)\n",
    "\n",
    "    # Identifying and copying relevant columns\n",
    "    main_table = tables[0]\n",
    "    region_dataframe = main_table[['Country or Area', 'Geographical subregion']].copy()\n",
    "    region_dataframe.columns = ['country', 'region'] # Renaming relevant columns for compatibility with WorldBank data\n",
    "\n",
    "    return region_dataframe\n",
    "\n",
    "# Scrape UN geoscheme data and save it as a CSV file\n",
    "region_dataframe = scrape_region('https://en.wikipedia.org/wiki/List_of_countries_and_territories_by_the_United_Nations_geoscheme')\n",
    "region_dataframe.to_csv('../data/country_regions.csv', index = False)"
   ]
  }
 ],
 "metadata": {
  "kernelspec": {
   "display_name": "Python 3 (ipykernel)",
   "language": "python",
   "name": "python3"
  },
  "language_info": {
   "codemirror_mode": {
    "name": "ipython",
    "version": 3
   },
   "file_extension": ".py",
   "mimetype": "text/x-python",
   "name": "python",
   "nbconvert_exporter": "python",
   "pygments_lexer": "ipython3",
   "version": "3.9.0"
  }
 },
 "nbformat": 4,
 "nbformat_minor": 5
}
