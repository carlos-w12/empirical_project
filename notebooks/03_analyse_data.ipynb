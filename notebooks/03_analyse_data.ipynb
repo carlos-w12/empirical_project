{
 "cells": [
  {
   "cell_type": "code",
   "execution_count": null,
   "id": "a0b14058-135a-4839-b709-4ec8474453a4",
   "metadata": {
    "scrolled": true
   },
   "outputs": [],
   "source": [
    "# Importing modules\n",
    "import pandas as pd\n",
    "from sklearn.preprocessing import StandardScaler\n",
    "import statsmodels.api as sm\n",
    "\n",
    "# Loading relevant dataset\n",
    "data = pd.read_csv('../data/cleaned_data.csv')\n",
    "\n",
    "# Shifting GDP growth to compare indicators in the current year to gdp_growth the following year\n",
    "data['gdp_growth_next'] = data.groupby('country')['gdp_growth'].shift(1)\n",
    "data = data[data['year'] <= 2021] \n",
    "\n",
    "# Creating a regression input dataset\n",
    "regression_data = data"
   ]
  },
  {
   "cell_type": "code",
   "execution_count": null,
   "id": "9e5776f4-0917-4fee-be77-37cd8590cf66",
   "metadata": {},
   "outputs": [],
   "source": [
    "# Dropping observations with missing next-year GDP growth\n",
    "regression_data_cleaned = regression_data.dropna(subset = ['gdp_growth_next'])\n",
    "\n",
    "# Selecting indicators to regress next-year GDP growth on\n",
    "indicators = ['debt', 'inflation', 'reserves', 'current_account', 'fdi']\n",
    "\n",
    "# Standardising indicators (z-score normalisation)\n",
    "scaler = StandardScaler()\n",
    "scaled_indicators = scaler.fit_transform(regression_data_cleaned[indicators])\n",
    "\n",
    "# Creating a standardised regression input dataset\n",
    "regression_input = pd.DataFrame(scaled_indicators, columns = indicators, index = regression_data_cleaned.index)\n",
    "\n",
    "# Reversing indicators so that a higher value always indicates higher fragility\n",
    "for col in ['reserves', 'current_account', 'fdi']:\n",
    "    regression_input[col] *= -1"
   ]
  },
  {
   "cell_type": "code",
   "execution_count": null,
   "id": "45e2d6c0-1036-4059-9fe4-2fe8ffd489b1",
   "metadata": {},
   "outputs": [],
   "source": [
    "# Defining regression inputs\n",
    "x = sm.add_constant(regression_input)\n",
    "y = regression_data_cleaned['gdp_growth_next']\n",
    "\n",
    "# Running the regression\n",
    "regression = sm.OLS(y, x).fit()\n",
    "print(regression.summary())"
   ]
  },
  {
   "cell_type": "code",
   "execution_count": null,
   "id": "874d4abe-c6ed-4cb9-8e20-aa303ab4d5af",
   "metadata": {},
   "outputs": [],
   "source": [
    "# Extracting regression coefficients and calculating the 'fragility score'\n",
    "fragility_weights = regression.params.drop('const')\n",
    "data_final = regression_data_cleaned.copy()\n",
    "data_final['fragility_score'] = - (regression_input @ fragility_weights)"
   ]
  },
  {
   "cell_type": "code",
   "execution_count": null,
   "id": "9e3a13aa-c0ab-47f7-9935-0f6e0fbc3546",
   "metadata": {},
   "outputs": [],
   "source": [
    "# Locate minimum and maximum fragility scores for standard min-max normalisation\n",
    "fragility_minimum = data_final['fragility_score'].min()\n",
    "fragility_maximum = data_final['fragility_score'].max()\n",
    "\n",
    "# Normalise fragility scores and save the final dataset as a CSV\n",
    "data_final['normalised_fragility_score'] = (data_final['fragility_score'] - fragility_minimum)/(fragility_maximum - fragility_minimum)\n",
    "data_final.to_csv('../data/fragility_scores.csv', index = False)"
   ]
  }
 ],
 "metadata": {
  "kernelspec": {
   "display_name": "Python 3 (ipykernel)",
   "language": "python",
   "name": "python3"
  },
  "language_info": {
   "codemirror_mode": {
    "name": "ipython",
    "version": 3
   },
   "file_extension": ".py",
   "mimetype": "text/x-python",
   "name": "python",
   "nbconvert_exporter": "python",
   "pygments_lexer": "ipython3",
   "version": "3.9.0"
  }
 },
 "nbformat": 4,
 "nbformat_minor": 5
}
